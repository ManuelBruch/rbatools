{
 "cells": [
  {
   "cell_type": "markdown",
   "metadata": {},
   "source": [
    "# In this notebook we show how to access information on model-components with built-in methods.\n",
    "\n",
    "Here we how rbatools provides access to information on model components and architecture with the existing RBA-model of Bacillus subtilis (https://pubmed.ncbi.nlm.nih.gov/26498510/).\n",
    "\n",
    "For further information on rba, please consider our website: https://rba.inrae.fr "
   ]
  },
  {
   "cell_type": "code",
   "execution_count": 1,
   "metadata": {},
   "outputs": [],
   "source": [
    "import matplotlib.pyplot as plt\n",
    "import pandas\n",
    "import numpy\n",
    "import rba\n",
    "from rbatools.rba_session import SessionRBA\n"
   ]
  },
  {
   "cell_type": "code",
   "execution_count": 2,
   "metadata": {},
   "outputs": [],
   "source": [
    "model_filename = '../Bacterial-RBA-models/Bacillus-subtilis-168-WT'\n",
    "# initiate RBA-session with cplex as lp solver. If cplex is not available glpk can be used as lp solver.\n",
    "#However glpk is significantly slower\n",
    "Simulation = SessionRBA(model_filename,lp_solver=\"cplex\")\n",
    "#Simulation = SessionRBA(model_filename,lp_solver=\"swiglpk\")\n"
   ]
  },
  {
   "cell_type": "code",
   "execution_count": 3,
   "metadata": {},
   "outputs": [],
   "source": [
    "Simulation.ModelStructure.export_sbtab(filename=\"../SBtab_Bsubtilis_RBAmodel\",add_links=False)"
   ]
  },
  {
   "cell_type": "markdown",
   "metadata": {},
   "source": [
    "## Access to key information on model"
   ]
  },
  {
   "cell_type": "code",
   "execution_count": null,
   "metadata": {},
   "outputs": [],
   "source": [
    "Simulation.get_general_model_information()"
   ]
  },
  {
   "cell_type": "markdown",
   "metadata": {},
   "source": [
    "### Key information must be externally provided via csv file in model directory"
   ]
  },
  {
   "cell_type": "code",
   "execution_count": null,
   "metadata": {},
   "outputs": [],
   "source": [
    "#pandas.read_csv(str(model_file_directory+'/ModelInformation.csv'),sep=',', header=0)"
   ]
  },
  {
   "cell_type": "markdown",
   "metadata": {},
   "source": [
    "## Access to statistics on model"
   ]
  },
  {
   "cell_type": "code",
   "execution_count": null,
   "metadata": {},
   "outputs": [],
   "source": [
    "Simulation.get_model_statistics_information()"
   ]
  },
  {
   "cell_type": "markdown",
   "metadata": {},
   "source": [
    "## Access to model compartment information"
   ]
  },
  {
   "cell_type": "code",
   "execution_count": null,
   "metadata": {},
   "outputs": [],
   "source": [
    "Simulation.get_compartments()"
   ]
  },
  {
   "cell_type": "code",
   "execution_count": null,
   "metadata": {},
   "outputs": [],
   "source": [
    "print(Simulation.get_compartment_information.__doc__)"
   ]
  },
  {
   "cell_type": "code",
   "execution_count": null,
   "metadata": {},
   "outputs": [],
   "source": [
    "Simulation.get_compartment_information(compartment=\"Cytoplasm\")"
   ]
  },
  {
   "cell_type": "markdown",
   "metadata": {},
   "source": [
    "## Access to model protein information"
   ]
  },
  {
   "cell_type": "code",
   "execution_count": null,
   "metadata": {},
   "outputs": [],
   "source": [
    "Simulation.get_proteins()"
   ]
  },
  {
   "cell_type": "code",
   "execution_count": null,
   "metadata": {},
   "outputs": [],
   "source": [
    "print(Simulation.get_protein_information.__doc__)"
   ]
  },
  {
   "cell_type": "code",
   "execution_count": null,
   "metadata": {},
   "outputs": [],
   "source": [
    "Simulation.get_protein_information(protein=\"BSU05830\")"
   ]
  },
  {
   "cell_type": "markdown",
   "metadata": {},
   "source": [
    "## Access to model enzyme information"
   ]
  },
  {
   "cell_type": "code",
   "execution_count": null,
   "metadata": {},
   "outputs": [],
   "source": [
    "Simulation.get_enzymes()"
   ]
  },
  {
   "cell_type": "code",
   "execution_count": null,
   "metadata": {},
   "outputs": [],
   "source": [
    "print(Simulation.get_enzyme_information.__doc__)"
   ]
  },
  {
   "cell_type": "code",
   "execution_count": null,
   "metadata": {},
   "outputs": [],
   "source": [
    "Simulation.get_enzyme_information(enzyme=\"TptsG_enzyme\")"
   ]
  },
  {
   "cell_type": "markdown",
   "metadata": {},
   "source": [
    "## Access to model reaction information"
   ]
  },
  {
   "cell_type": "code",
   "execution_count": null,
   "metadata": {},
   "outputs": [],
   "source": [
    "Simulation.get_reactions()"
   ]
  },
  {
   "cell_type": "code",
   "execution_count": null,
   "metadata": {},
   "outputs": [],
   "source": [
    "print(Simulation.get_reaction_information.__doc__)"
   ]
  },
  {
   "cell_type": "code",
   "execution_count": null,
   "metadata": {},
   "outputs": [],
   "source": [
    "Simulation.get_reaction_information(reaction=\"TptsG\")"
   ]
  },
  {
   "cell_type": "markdown",
   "metadata": {},
   "source": [
    "## Access to model metabolite information"
   ]
  },
  {
   "cell_type": "code",
   "execution_count": null,
   "metadata": {},
   "outputs": [],
   "source": [
    "Simulation.get_metabolites()"
   ]
  },
  {
   "cell_type": "code",
   "execution_count": null,
   "metadata": {},
   "outputs": [],
   "source": [
    "print(Simulation.get_metabolite_information.__doc__)"
   ]
  },
  {
   "cell_type": "code",
   "execution_count": null,
   "metadata": {},
   "outputs": [],
   "source": [
    "Simulation.get_metabolite_information(metabolite=\"M_hpr_c\")"
   ]
  },
  {
   "cell_type": "markdown",
   "metadata": {},
   "source": [
    "## Access to model process information"
   ]
  },
  {
   "cell_type": "code",
   "execution_count": null,
   "metadata": {},
   "outputs": [],
   "source": [
    "Simulation.get_processes()"
   ]
  },
  {
   "cell_type": "code",
   "execution_count": null,
   "metadata": {},
   "outputs": [],
   "source": [
    "print(Simulation.get_process_information.__doc__)"
   ]
  },
  {
   "cell_type": "code",
   "execution_count": null,
   "metadata": {},
   "outputs": [],
   "source": [
    "Simulation.get_process_information(process=\"Translation\")"
   ]
  },
  {
   "cell_type": "markdown",
   "metadata": {},
   "source": [
    "## Access to model macromolecule information"
   ]
  },
  {
   "cell_type": "code",
   "execution_count": null,
   "metadata": {},
   "outputs": [],
   "source": [
    "Simulation.get_macro_molecules()"
   ]
  },
  {
   "cell_type": "code",
   "execution_count": null,
   "metadata": {},
   "outputs": [],
   "source": [
    "print(Simulation.get_macro_molecule_information.__doc__)"
   ]
  },
  {
   "cell_type": "code",
   "execution_count": null,
   "metadata": {},
   "outputs": [],
   "source": [
    "Simulation.get_macro_molecule_information(macro_molecule=\"mrna\")"
   ]
  },
  {
   "cell_type": "markdown",
   "metadata": {},
   "source": [
    "## Access to model target information"
   ]
  },
  {
   "cell_type": "code",
   "execution_count": null,
   "metadata": {},
   "outputs": [],
   "source": [
    "Simulation.get_targets()"
   ]
  },
  {
   "cell_type": "code",
   "execution_count": null,
   "metadata": {},
   "outputs": [],
   "source": [
    "print(Simulation.get_target_information.__doc__)"
   ]
  },
  {
   "cell_type": "code",
   "execution_count": null,
   "metadata": {},
   "outputs": [],
   "source": [
    "Simulation.get_target_information(target=\"Target_concentration_average_protein_Cytoplasm\")"
   ]
  },
  {
   "cell_type": "markdown",
   "metadata": {},
   "source": [
    "## Access to model module information (defined as groups in SBML file)"
   ]
  },
  {
   "cell_type": "code",
   "execution_count": null,
   "metadata": {},
   "outputs": [],
   "source": [
    "Simulation.get_modules()"
   ]
  },
  {
   "cell_type": "code",
   "execution_count": null,
   "metadata": {},
   "outputs": [],
   "source": [
    "print(Simulation.get_module_information.__doc__)"
   ]
  },
  {
   "cell_type": "markdown",
   "metadata": {},
   "source": [
    "## Access to model density-constraint information"
   ]
  },
  {
   "cell_type": "code",
   "execution_count": null,
   "metadata": {},
   "outputs": [],
   "source": [
    "Simulation.get_density_constraints()"
   ]
  },
  {
   "cell_type": "code",
   "execution_count": null,
   "metadata": {},
   "outputs": [],
   "source": [
    "print(Simulation.get_density_constraint_information.__doc__)"
   ]
  },
  {
   "cell_type": "code",
   "execution_count": null,
   "metadata": {},
   "outputs": [],
   "source": [
    "Simulation.get_density_constraint_information(density_constraint=\"Cell_membrane_density\")\n"
   ]
  },
  {
   "cell_type": "markdown",
   "metadata": {},
   "source": [
    "## Access to model enzyme-capacity constraint information"
   ]
  },
  {
   "cell_type": "code",
   "execution_count": null,
   "metadata": {},
   "outputs": [],
   "source": [
    "Simulation.get_enzyme_constraints()"
   ]
  },
  {
   "cell_type": "code",
   "execution_count": null,
   "metadata": {},
   "outputs": [],
   "source": [
    "print(Simulation.get_enzyme_constraint_information.__doc__)"
   ]
  },
  {
   "cell_type": "code",
   "execution_count": null,
   "metadata": {},
   "outputs": [],
   "source": [
    "Simulation.get_enzyme_constraint_information(enzyme_constraint=\"TptsG_enzyme_forward_capacity\")"
   ]
  },
  {
   "cell_type": "markdown",
   "metadata": {},
   "source": [
    "## Access to model metabolite mass-balance constraint information"
   ]
  },
  {
   "cell_type": "code",
   "execution_count": null,
   "metadata": {},
   "outputs": [],
   "source": [
    "Simulation.get_metabolite_constraints()"
   ]
  },
  {
   "cell_type": "code",
   "execution_count": null,
   "metadata": {},
   "outputs": [],
   "source": [
    "print(Simulation.get_metabolite_constraint_information.__doc__)"
   ]
  },
  {
   "cell_type": "code",
   "execution_count": null,
   "metadata": {},
   "outputs": [],
   "source": [
    "Simulation.get_metabolite_constraint_information(metabolite_constraint=\"M_fru1p_c\")"
   ]
  },
  {
   "cell_type": "markdown",
   "metadata": {},
   "source": [
    "## Access to model process-capacity constraint information"
   ]
  },
  {
   "cell_type": "code",
   "execution_count": null,
   "metadata": {},
   "outputs": [],
   "source": [
    "Simulation.get_process_constraints()"
   ]
  },
  {
   "cell_type": "code",
   "execution_count": null,
   "metadata": {},
   "outputs": [],
   "source": [
    "print(Simulation.get_process_constraint_information.__doc__)"
   ]
  },
  {
   "cell_type": "code",
   "execution_count": 12,
   "metadata": {},
   "outputs": [
    {
     "data": {
      "text/plain": [
       "{'ID': 'P_TA_capacity',\n",
       " 'AssociatedProcess': 'Translation',\n",
       " 'AssociatedProcessID': 'P_TA',\n",
       " 'CapacityParameterID': 'ribosome_capacity',\n",
       " 'CapacityParameter': {'Type': 'Aggregate',\n",
       "  'Equation': '(kmax*growth_rate/(growth_rate+Km))*(e**(RATE*growth_rate))',\n",
       "  'Variables': ['growth_rate'],\n",
       "  'Generic_latex': '$_/_frac{V_/_mu}{_/_mu+K} _/_times e^{_/_lambda _/_mu}$',\n",
       "  'Specific_latex': '$_/_frac{97200.0_/_mu}{_/_mu+0.5} _/_times e^{-0.083333 _/_mu}$',\n",
       "  'Function_parameters': ['kmax', 'Km', 'Y_MIN', 'e', 'RATE'],\n",
       "  'Multiplicative Terms': ['ribosome_efficiency_MM',\n",
       "   'fraction_active_ribosomes']},\n",
       " 'Generic parameter definition': '$_/_frac{V_/_mu}{_/_mu+K} _/_times e^{_/_lambda _/_mu}$',\n",
       " 'Specific parameter definition': '$_/_frac{97200.0_/_mu}{_/_mu+0.5} _/_times e^{-0.083333 _/_mu}$',\n",
       " 'Type': '='}"
      ]
     },
     "execution_count": 12,
     "metadata": {},
     "output_type": "execute_result"
    }
   ],
   "source": [
    "Simulation.get_process_constraint_information(process_constraint=\"P_TA_capacity\")\n"
   ]
  },
  {
   "cell_type": "markdown",
   "metadata": {},
   "source": [
    "## Access to mathematical definition of model parameter"
   ]
  },
  {
   "cell_type": "code",
   "execution_count": 14,
   "metadata": {},
   "outputs": [],
   "source": [
    "translation_efficiency_parameter=Simulation.get_process_constraint_information(process_constraint=\"P_TA_capacity\")[\"CapacityParameterID\"]\n"
   ]
  },
  {
   "cell_type": "code",
   "execution_count": 19,
   "metadata": {},
   "outputs": [
    {
     "name": "stdout",
     "output_type": "stream",
     "text": [
      "\n",
      "        Returns definition of model parameter.\n",
      "\n",
      "        Parameters\n",
      "        ----------\n",
      "        parameter : str\n",
      "            ID of model parameter\n",
      "\n",
      "        Returns\n",
      "        -------\n",
      "        Dictionary with parameter definition information: {parameter:info}\n",
      "        The info value is a dictionary itself, which depends on the whether\n",
      "        the parameter is among aggrgates or functions.\n",
      "        info={'Type' : str, --> type of parameter  \"Aggrgate\" if aggregate and function type (michaelisMenten, linear, constant...) if function\n",
      "              'Equation' : str, --> mathematical equation of parameter definition\n",
      "              'Variables' : list, --> list of independent variables of paramter definition (growth-rate or medium components)\n",
      "              'Function_parameters' : list, --> list of function parameters in function definition.\n",
      "              'Multiplicative Terms' : list, --> list of multiplicative terms (function IDs) composing the parameter (several function ids if aggregate, only own id if function)\n",
      "              'Generic_latex' : str, --> equation in LaTex format (with variable ids for function parameters)\n",
      "              'Specific_latex' : str, --> equation in LaTex format (with actual values for function parameters)\n",
      "            }\n",
      "        \n"
     ]
    }
   ],
   "source": [
    "print(Simulation.get_parameter_definition.__doc__)"
   ]
  },
  {
   "cell_type": "code",
   "execution_count": 15,
   "metadata": {},
   "outputs": [
    {
     "data": {
      "text/plain": [
       "{'ribosome_capacity': {'Type': 'Aggregate',\n",
       "  'Equation': '(kmax*growth_rate/(growth_rate+Km))*(e**(RATE*growth_rate))',\n",
       "  'Variables': ['growth_rate'],\n",
       "  'Generic_latex': '$_/_frac{V_/_mu}{_/_mu+K} _/_times e^{_/_lambda _/_mu}$',\n",
       "  'Specific_latex': '$_/_frac{97200.0_/_mu}{_/_mu+0.5} _/_times e^{-0.083333 _/_mu}$',\n",
       "  'Function_parameters': ['kmax', 'Km', 'Y_MIN', 'e', 'RATE'],\n",
       "  'Multiplicative Terms': ['ribosome_efficiency_MM',\n",
       "   'fraction_active_ribosomes']}}"
      ]
     },
     "execution_count": 15,
     "metadata": {},
     "output_type": "execute_result"
    }
   ],
   "source": [
    "Simulation.get_parameter_definition(parameter=translation_efficiency_parameter)\n"
   ]
  },
  {
   "cell_type": "code",
   "execution_count": 20,
   "metadata": {},
   "outputs": [
    {
     "name": "stdout",
     "output_type": "stream",
     "text": [
      "\n",
      "        Returns definition of model parameter.\n",
      "\n",
      "        Parameters\n",
      "        ----------\n",
      "        parameter : str\n",
      "            ID of model parameter\n",
      "\n",
      "        Returns\n",
      "        -------\n",
      "        Dictionary with parameter definition information: {parameter:info}\n",
      "        The info value is a dictionary itself, which depends on the whether\n",
      "        the parameter is among aggrgates or functions.\n",
      "        info={'Type' : str, --> type of parameter  \"Aggrgate\" if aggregate and function type (michaelisMenten, linear, constant...) if function\n",
      "              'Equation' : str, --> mathematical equation of parameter definition\n",
      "              'Variables' : list, --> list of independent variables of paramter definition (growth-rate or medium components)\n",
      "              'Function_parameters' : list, --> list of function parameters in function definition.\n",
      "              'Multiplicative Terms' : list, --> list of multiplicative terms (function IDs) composing the parameter (several function ids if aggregate, only own id if function)\n",
      "              'Generic_latex' : str, --> equation in LaTex format (with variable ids for function parameters)\n",
      "              'Specific_latex' : str, --> equation in LaTex format (with actual values for function parameters)\n",
      "            }\n",
      "        \n"
     ]
    }
   ],
   "source": [
    "print(Simulation.get_parameter_definition.__doc__)"
   ]
  },
  {
   "cell_type": "code",
   "execution_count": 16,
   "metadata": {},
   "outputs": [],
   "source": [
    "translation_efficiency_vs_growth_rate=Simulation.get_parameter_evolution(model_parameter=translation_efficiency_parameter,x_values={\"growth_rate\":[0.1,0.2,0.3,0.4,0.5,0.6,0.7,0.8,0.9,1.0,1.2,1.4,1.6,1.8,2]}) \n"
   ]
  },
  {
   "cell_type": "code",
   "execution_count": 18,
   "metadata": {},
   "outputs": [
    {
     "data": {
      "text/plain": [
       "Text(0, 0.5, 'Ribosome efficiency (1/h)')"
      ]
     },
     "execution_count": 18,
     "metadata": {},
     "output_type": "execute_result"
    },
    {
     "data": {
      "image/png": "[encoded data removed]",
      "text/plain": [
       "<Figure size 432x288 with 1 Axes>"
      ]
     },
     "metadata": {
      "needs_background": "light"
     },
     "output_type": "display_data"
    }
   ],
   "source": [
    "plt.scatter(translation_efficiency_vs_growth_rate[\"growth_rate\"],translation_efficiency_vs_growth_rate[\"ribosome_capacity\"])\n",
    "plt.title(\"Translation-efficiency vs. growth-rate\")\n",
    "plt.xlabel(\"Growth-rate (1/h)\")\n",
    "plt.ylabel(\"Ribosome efficiency (1/h)\")\n"
   ]
  },
  {
   "cell_type": "code",
   "execution_count": null,
   "metadata": {},
   "outputs": [],
   "source": []
  }
 ],
 "metadata": {
  "kernelspec": {
   "display_name": "Python 3",
   "language": "python",
   "name": "python3"
  },
  "language_info": {
   "codemirror_mode": {
    "name": "ipython",
    "version": 3
   },
   "file_extension": ".py",
   "mimetype": "text/x-python",
   "name": "python",
   "nbconvert_exporter": "python",
   "pygments_lexer": "ipython3",
   "version": "3.6.5"
  }
 },
 "nbformat": 4,
 "nbformat_minor": 2
}
