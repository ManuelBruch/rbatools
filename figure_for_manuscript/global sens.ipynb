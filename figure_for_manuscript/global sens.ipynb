{
 "cells": [
  {
   "cell_type": "code",
   "execution_count": 1,
   "metadata": {},
   "outputs": [],
   "source": [
    "import matplotlib.pyplot as plt\n",
    "import pandas\n",
    "import numpy\n",
    "import rba\n",
    "\n",
    "from rbatools.rba_session import SessionRBA\n",
    "\n",
    "from matplotlib.gridspec import GridSpec\n",
    "import seaborn\n"
   ]
  },
  {
   "cell_type": "code",
   "execution_count": 2,
   "metadata": {},
   "outputs": [],
   "source": [
    "sampling_results=pandas.read_csv(\"../../RBAtools_FigSamples_stdevlog_0.1.csv\",index_col=0)"
   ]
  },
  {
   "cell_type": "code",
   "execution_count": 4,
   "metadata": {},
   "outputs": [],
   "source": [
    "glucose_color=\"#2E4DA7\"\n",
    "oxygen_color=\"#DC5964\"\n",
    "#acetate_color=\"#6DA7A4\"\n",
    "#acetate_color=\"#158582\"\n",
    "acetate_color=\"#E6B327\"\n",
    "growth_rate_color=\"#AAAABC\"\n",
    "contrast_line_color=\"#454555\"\n",
    "dark_mud=\"#E6B327\""
   ]
  },
  {
   "cell_type": "code",
   "execution_count": 5,
   "metadata": {},
   "outputs": [],
   "source": [
    "title_font_size=18\n",
    "ticklabel_fontsize=13\n",
    "axislabel_fontsize=16\n",
    "labelpad_axislables=0.5"
   ]
  },
  {
   "cell_type": "code",
   "execution_count": 65,
   "metadata": {},
   "outputs": [],
   "source": [
    "def plot_kapp_sampling_mu(ax,input_data,mu_WT):\n",
    "    seaborn.histplot(data=input_data.loc[(input_data[\"Mu\"]!=4)&(input_data[\"Mu\"]!=None)], \n",
    "                     x=\"Mu\",\n",
    "                     ax=ax,\n",
    "                     alpha=0.3,\n",
    "                     linewidth=0,\n",
    "                     color=contrast_line_color, \n",
    "                     kde=True,\n",
    "                     line_kws={\"linewidth\":4,\"alpha\":1,\"color\":\"blue\"},\n",
    "                     bins=17,\n",
    "                     fill=True, zorder=1)\n",
    "    if mu_WT is not None:\n",
    "        ax.axvline(mu_WT,color=contrast_line_color,linestyle=\"dashed\",linewidth=2, zorder=2)\n",
    "    ax.set_yticks([])\n",
    "    ax.set_xticks([0.25,0.3,0.35,0.4])\n",
    "    ax.set_xticklabels([0.25,0.3,0.35,0.4],fontsize=ticklabel_fontsize)\n",
    "    ax.set_ylabel(\"\")\n",
    "    ax.set_xlabel(\"Growth-rate [$h^{-1}$]\",fontsize=axislabel_fontsize,labelpad=labelpad_axislables)\n",
    "    ax.set_title(\"Sampled growth-rates\",fontsize=title_font_size)\n",
    "\n",
    "\n",
    "def plot_kapp_sampling_o2(ax,input_data,o2_WT):\n",
    "    seaborn.histplot(data=input_data.loc[(input_data[\"R_EX_o2_e\"]!=None)], \n",
    "                     x=\"R_EX_o2_e\",\n",
    "                     ax=ax,\n",
    "                     alpha=0.4,\n",
    "                     linewidth=0,\n",
    "                     color=oxygen_color, \n",
    "                     kde=True,\n",
    "                     line_kws={\"linewidth\":4,\"alpha\":1,\"color\":oxygen_color},\n",
    "                     bins=17,\n",
    "                     fill=True, zorder=1)\n",
    "    if o2_WT is not None:\n",
    "        ax.axvline(o2_WT,color=contrast_line_color,linestyle=\"dashed\",linewidth=2, zorder=2)\n",
    "    ax.set_yticks([])\n",
    "    ax.set_xticks([8,9,10,11,12,13,14,15])\n",
    "    ax.set_xticklabels([8,9,10,11,12,13,14,15],fontsize=ticklabel_fontsize)\n",
    "    #ax[1].set_xlim(4.2,18.99)\n",
    "    ax.set_ylabel(\"\")\n",
    "    ax.set_xlabel(\"$O_2$ uptake: [mmol (h $g_{DW}$)$^{-1}$]\",fontsize=axislabel_fontsize,labelpad=labelpad_axislables)\n",
    "    ax.set_title(\"Sampled oxygen uptakes\",fontsize=title_font_size)\n"
   ]
  },
  {
   "cell_type": "code",
   "execution_count": 67,
   "metadata": {},
   "outputs": [
    {
     "name": "stderr",
     "output_type": "stream",
     "text": [
      "/usr/local/lib/python3.6/site-packages/ipykernel_launcher.py:10: UserWarning: This figure was using constrained_layout==True, but that is incompatible with subplots_adjust and or tight_layout: setting constrained_layout==False. \n",
      "  # Remove the CWD from sys.path while we load stuff.\n"
     ]
    },
    {
     "data": {
      "image/png": "[encoded data removed]",
      "text/plain": [
       "<Figure size 288x288 with 2 Axes>"
      ]
     },
     "metadata": {
      "needs_background": "light"
     },
     "output_type": "display_data"
    }
   ],
   "source": [
    "mu_WT=0.31982421875\n",
    "o2_WT=12.301434020398014\n",
    "\n",
    "fig = plt.figure(figsize=(4,4),constrained_layout=True)\n",
    "gs = GridSpec(2,1, figure=fig)\n",
    "ax1 = fig.add_subplot(gs[0, 0])\n",
    "ax2 = fig.add_subplot(gs[1, 0])\n",
    "plot_kapp_sampling_mu(ax=ax1,input_data=sampling_results,mu_WT=mu_WT)\n",
    "plot_kapp_sampling_o2(ax=ax2,input_data=sampling_results,o2_WT=o2_WT)\n",
    "plt.tight_layout()\n",
    "plt.savefig('Global_sampling_review.png')"
   ]
  },
  {
   "cell_type": "code",
   "execution_count": null,
   "metadata": {},
   "outputs": [],
   "source": []
  }
 ],
 "metadata": {
  "kernelspec": {
   "display_name": "Python 3",
   "language": "python",
   "name": "python3"
  },
  "language_info": {
   "codemirror_mode": {
    "name": "ipython",
    "version": 3
   },
   "file_extension": ".py",
   "mimetype": "text/x-python",
   "name": "python",
   "nbconvert_exporter": "python",
   "pygments_lexer": "ipython3",
   "version": "3.6.5"
  }
 },
 "nbformat": 4,
 "nbformat_minor": 2
}
