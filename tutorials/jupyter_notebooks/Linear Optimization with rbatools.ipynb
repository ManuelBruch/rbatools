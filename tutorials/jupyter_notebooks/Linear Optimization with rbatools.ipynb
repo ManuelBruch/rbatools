{
 "cells": [
  {
   "cell_type": "code",
   "execution_count": 1,
   "metadata": {},
   "outputs": [],
   "source": [
    "import numpy\n",
    "from rbatools.rba_problem_matrix import ProblemMatrix\n",
    "from rbatools.rba_lp import LinearProblem\n",
    "from scipy.sparse import coo_matrix"
   ]
  },
  {
   "cell_type": "code",
   "execution_count": 2,
   "metadata": {},
   "outputs": [
    {
     "name": "stdout",
     "output_type": "stream",
     "text": [
      "\n",
      "    Class holding RBA-Linear Problem.\n",
      "    Required Object type for linear problems (matrices), to be used in this RBA-API.\n",
      "    Should include all fields, required for a linear problem in the COBRA format, as attributes.\n",
      "\n",
      "    Attributes\n",
      "    ----------\n",
      "    A : scipy.sparse.coo_matrix\n",
      "        Lefthandside of constraint Matrix (aka Constraint Matrix)\n",
      "    b : numpy.array\n",
      "        Righthandside of Constraint Matrix\n",
      "    row_signs : list\n",
      "        Type of constraints ('E' for equality 'L' for lower-or-equal inequality) --> Ax=b or Ax<=b\n",
      "    f : numyp.array\n",
      "        Objective function linear get_coefficients\n",
      "    LB : numpy.array\n",
      "        Lower bounds of decision-variables\n",
      "    UB : numpy.array\n",
      "        Upper bounds of decision-variables\n",
      "    row_names : list\n",
      "        Names of constraints\n",
      "    col_names : list\n",
      "        Names of decision-variables\n",
      "    rowIndicesMap : dict\n",
      "        Dictionary mapping constraint names to their numeric index (generated automatically)\n",
      "    colIndicesMap : dict\n",
      "        Dictionary mapping variable names to their numeric index (generated automatically)\n",
      "    \n"
     ]
    }
   ],
   "source": [
    "print(ProblemMatrix.__doc__)"
   ]
  },
  {
   "cell_type": "code",
   "execution_count": 38,
   "metadata": {},
   "outputs": [],
   "source": [
    "Example_LP_matrix=ProblemMatrix()"
   ]
  },
  {
   "cell_type": "code",
   "execution_count": 39,
   "metadata": {},
   "outputs": [],
   "source": [
    "coeffs_constraint_1=[1,2]\n",
    "coeffs_constraint_2=[3,-1]\n",
    "coeffs_constraint_3=[1,-1]\n",
    "Example_LP_matrix.A=coo_matrix(numpy.array([coeffs_constraint_1,coeffs_constraint_2,coeffs_constraint_3]))"
   ]
  },
  {
   "cell_type": "code",
   "execution_count": 40,
   "metadata": {},
   "outputs": [],
   "source": [
    "Example_LP_matrix.b=numpy.array([14,0,2])"
   ]
  },
  {
   "cell_type": "code",
   "execution_count": 41,
   "metadata": {},
   "outputs": [],
   "source": [
    "Example_LP_matrix.row_signs=['L','G','L']"
   ]
  },
  {
   "cell_type": "code",
   "execution_count": 68,
   "metadata": {},
   "outputs": [],
   "source": [
    "Example_LP_matrix.f=numpy.array([3,4])"
   ]
  },
  {
   "cell_type": "code",
   "execution_count": 69,
   "metadata": {},
   "outputs": [],
   "source": [
    "Example_LP_matrix.LB=numpy.array([0,0])\n",
    "Example_LP_matrix.UB=numpy.array([10000,10000])"
   ]
  },
  {
   "cell_type": "code",
   "execution_count": 70,
   "metadata": {},
   "outputs": [],
   "source": [
    "Example_LP_matrix.col_names=['X','Y']\n",
    "Example_LP_matrix.row_names=['C1','C2','C3']"
   ]
  },
  {
   "cell_type": "code",
   "execution_count": 71,
   "metadata": {},
   "outputs": [],
   "source": [
    "Example_LP=LinearProblem(lp_solver='swiglpk')\n",
    "Example_LP.load_matrix(matrix=Example_LP_matrix)"
   ]
  },
  {
   "cell_type": "code",
   "execution_count": 72,
   "metadata": {},
   "outputs": [
    {
     "name": "stdout",
     "output_type": "stream",
     "text": [
      "LP built\n"
     ]
    }
   ],
   "source": [
    "lp_built=Example_LP.build_lp() \n",
    "if lp_built:\n",
    "    print(\"LP built\")"
   ]
  },
  {
   "cell_type": "code",
   "execution_count": 73,
   "metadata": {},
   "outputs": [],
   "source": [
    "Example_LP.solve_lp()"
   ]
  },
  {
   "cell_type": "code",
   "execution_count": 77,
   "metadata": {},
   "outputs": [
    {
     "data": {
      "text/plain": [
       "'optimal'"
      ]
     },
     "execution_count": 77,
     "metadata": {},
     "output_type": "execute_result"
    }
   ],
   "source": [
    "Example_LP.return_solution_status()"
   ]
  },
  {
   "cell_type": "code",
   "execution_count": 78,
   "metadata": {},
   "outputs": [
    {
     "data": {
      "text/plain": [
       "0.0"
      ]
     },
     "execution_count": 78,
     "metadata": {},
     "output_type": "execute_result"
    }
   ],
   "source": [
    "Example_LP.return_objective_value()"
   ]
  },
  {
   "cell_type": "code",
   "execution_count": 79,
   "metadata": {},
   "outputs": [
    {
     "data": {
      "text/plain": [
       "{'X': 0.0, 'Y': 0.0}"
      ]
     },
     "execution_count": 79,
     "metadata": {},
     "output_type": "execute_result"
    }
   ],
   "source": [
    "Example_LP.return_primal_values()"
   ]
  },
  {
   "cell_type": "code",
   "execution_count": 80,
   "metadata": {},
   "outputs": [
    {
     "data": {
      "text/plain": [
       "{'C1': 0.0, 'C2': 0.0, 'C3': 0.0}"
      ]
     },
     "execution_count": 80,
     "metadata": {},
     "output_type": "execute_result"
    }
   ],
   "source": [
    "Example_LP.return_dual_values()"
   ]
  },
  {
   "cell_type": "code",
   "execution_count": 84,
   "metadata": {},
   "outputs": [
    {
     "data": {
      "text/plain": [
       "{'X': -3.0, 'Y': -4.0}"
      ]
     },
     "execution_count": 84,
     "metadata": {},
     "output_type": "execute_result"
    }
   ],
   "source": [
    "Example_LP.get_objective(['X','Y'])"
   ]
  },
  {
   "cell_type": "code",
   "execution_count": 85,
   "metadata": {},
   "outputs": [],
   "source": [
    "Example_LP.set_objective({'X':-3,'Y':-4})"
   ]
  },
  {
   "cell_type": "code",
   "execution_count": 86,
   "metadata": {},
   "outputs": [],
   "source": [
    "Example_LP.solve_lp()"
   ]
  },
  {
   "cell_type": "code",
   "execution_count": 87,
   "metadata": {},
   "outputs": [
    {
     "data": {
      "text/plain": [
       "-34.00000000000001"
      ]
     },
     "execution_count": 87,
     "metadata": {},
     "output_type": "execute_result"
    }
   ],
   "source": [
    "Example_LP.return_objective_value()"
   ]
  },
  {
   "cell_type": "code",
   "execution_count": 88,
   "metadata": {},
   "outputs": [
    {
     "data": {
      "text/plain": [
       "{'X': 6.0, 'Y': 4.000000000000002}"
      ]
     },
     "execution_count": 88,
     "metadata": {},
     "output_type": "execute_result"
    }
   ],
   "source": [
    "Example_LP.return_primal_values()"
   ]
  },
  {
   "cell_type": "code",
   "execution_count": null,
   "metadata": {},
   "outputs": [],
   "source": []
  },
  {
   "cell_type": "code",
   "execution_count": null,
   "metadata": {},
   "outputs": [],
   "source": []
  },
  {
   "cell_type": "markdown",
   "metadata": {},
   "source": [
    "rba_problem:\n",
    "    set_/get_ ... lb, ub, rhs, objective, ...\n",
    "    solve_lp\n",
    "\n",
    "rba_lp:\n",
    "    add-/update matrix\n",
    "\n",
    "rba_matrix\n",
    "    ..."
   ]
  },
  {
   "cell_type": "code",
   "execution_count": null,
   "metadata": {},
   "outputs": [],
   "source": []
  },
  {
   "cell_type": "code",
   "execution_count": null,
   "metadata": {},
   "outputs": [],
   "source": []
  },
  {
   "cell_type": "code",
   "execution_count": null,
   "metadata": {},
   "outputs": [],
   "source": []
  },
  {
   "cell_type": "code",
   "execution_count": null,
   "metadata": {},
   "outputs": [],
   "source": []
  }
 ],
 "metadata": {
  "kernelspec": {
   "display_name": "Python 3",
   "language": "python",
   "name": "python3"
  },
  "language_info": {
   "codemirror_mode": {
    "name": "ipython",
    "version": 3
   },
   "file_extension": ".py",
   "mimetype": "text/x-python",
   "name": "python",
   "nbconvert_exporter": "python",
   "pygments_lexer": "ipython3",
   "version": "3.6.5"
  }
 },
 "nbformat": 4,
 "nbformat_minor": 2
}
